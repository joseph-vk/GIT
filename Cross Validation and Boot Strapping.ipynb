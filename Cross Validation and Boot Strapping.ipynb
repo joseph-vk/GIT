{
 "cells": [
  {
   "cell_type": "markdown",
   "metadata": {},
   "source": [
    "### <C>SIMPLE CROSSVALIDATION</C>\n",
    "\n",
    "\n",
    "\n",
    "\n",
    "\n"
   ]
  },
  {
   "cell_type": "code",
   "execution_count": 163,
   "metadata": {},
   "outputs": [],
   "source": [
    "import numpy as np\n",
    "import pandas as pd\n",
    "import statsmodels.api as sm\n",
    "import statsmodels.formula.api as smf\n",
    "import random\n",
    "import matplotlib.pyplot as plt"
   ]
  },
  {
   "cell_type": "code",
   "execution_count": 15,
   "metadata": {},
   "outputs": [
    {
     "name": "stdout",
     "output_type": "stream",
     "text": [
      "                            OLS Regression Results                            \n",
      "==============================================================================\n",
      "Dep. Variable:                      y   R-squared:                       0.026\n",
      "Model:                            OLS   Adj. R-squared:                  0.016\n",
      "Method:                 Least Squares   F-statistic:                     2.636\n",
      "Date:                Sat, 28 Jul 2018   Prob (F-statistic):              0.108\n",
      "Time:                        20:26:31   Log-Likelihood:                -216.09\n",
      "No. Observations:                 100   AIC:                             436.2\n",
      "Df Residuals:                      98   BIC:                             441.4\n",
      "Df Model:                           1                                         \n",
      "Covariance Type:            nonrobust                                         \n",
      "==============================================================================\n",
      "                 coef    std err          t      P>|t|      [0.025      0.975]\n",
      "------------------------------------------------------------------------------\n",
      "const          7.7104      0.565     13.637      0.000       6.588       8.832\n",
      "x1            -0.1776      0.109     -1.623      0.108      -0.395       0.039\n",
      "==============================================================================\n",
      "Omnibus:                        0.674   Durbin-Watson:                   2.151\n",
      "Prob(Omnibus):                  0.714   Jarque-Bera (JB):                0.808\n",
      "Skew:                           0.148   Prob(JB):                        0.668\n",
      "Kurtosis:                       2.674   Cond. No.                         14.2\n",
      "==============================================================================\n",
      "\n",
      "Warnings:\n",
      "[1] Standard Errors assume that the covariance matrix of the errors is correctly specified.\n"
     ]
    },
    {
     "data": {
      "text/plain": [
       "array([0.026])"
      ]
     },
     "execution_count": 15,
     "metadata": {},
     "output_type": "execute_result"
    }
   ],
   "source": [
    "# DGP\n",
    "sigma = 2\n",
    "n = 100   # number of records\n",
    "np.random.seed(100)\n",
    "rsquared = np.zeros(1)\n",
    "x = np.random.normal(5,sigma,(n,1))\n",
    "x = sm.add_constant(x)\n",
    "y = np.random.normal(7,sigma,(n,1))\n",
    "ols = sm.OLS(y,x).fit()\n",
    "print(ols.summary())\n",
    "rsquared[0] = np.round(ols.rsquared,3)\n",
    "rsquared\n"
   ]
  },
  {
   "cell_type": "code",
   "execution_count": 171,
   "metadata": {},
   "outputs": [
    {
     "name": "stdout",
     "output_type": "stream",
     "text": [
      "Rsquared witout CV= 0.6707688497155784\n",
      "the mean value of R squared = 0.6707714566902443\n"
     ]
    }
   ],
   "source": [
    "# DGP  \n",
    "k = 10  # number of folds\n",
    "sigma = 1 # standard deviation\n",
    "row = 10000  # number of records\n",
    "np.random.seed(100)\n",
    "x  =  np.random.normal(5,sigma,(row,1)) # generating x values\n",
    "w = np.random.normal(2,sigma,(row,1))\n",
    "e = np.random.normal(0,sigma,(row,1)) # generaring e values\n",
    "y = x + w + e # generating y values\n",
    "#x = sm.add_constant(x) # adding constant to x values\n",
    "df = pd.DataFrame(np.hstack((y,x,w))) # creating a dataframe of values\n",
    "df.columns = [\"y\",\"x1\",\"x2\"]\n",
    "ols1 = smf.ols('y~x1+x2',data = df).fit()\n",
    "# model.summary()\n",
    "print(\"Rsquared witout CV= \"+ str(ols1.rsquared))\n",
    "\n",
    "# Creating K-Folds \n",
    "\n",
    "final_list = []\n",
    "lists = []\n",
    "n = np.arange(row)\n",
    "random.shuffle(n)\n",
    "length = len(n) // k\n",
    "j = 0\n",
    "for i in range(k):\n",
    "    if i == k-1 :\n",
    "        length += len(n) - (k*(len(n)//k))\n",
    "    for index in range(j,j+length) : \n",
    "        lists.append(n[index])\n",
    "    final_list.append(lists)\n",
    "    lists = []\n",
    "    j=j+length\n",
    "    if i == k-1 :\n",
    "        length += n - (k*(n//k))\n",
    "\n",
    "# Cross Validation and saving rsquared in container\n",
    "\n",
    "cv_container = np.zeros((k,1))\n",
    "\n",
    "for index,key in enumerate(final_list):\n",
    "    test = []\n",
    "    train = []\n",
    "    test = key\n",
    "    for index2,key2 in enumerate(final_list):\n",
    "        if index2 != index:\n",
    "            train = train + key2\n",
    "    train_df =  df.iloc[train,:]\n",
    "    test_df = df.iloc[test,:]\n",
    "    ols = smf.ols('y~x1+x2',data = train_df).fit()\n",
    "    pred = ols.predict(test_df)\n",
    "    cv_container[index] = ols.rsquared\n",
    "print(\"the mean value of R squared = \" + str(cv_container.mean()))\n",
    "        \n",
    "        "
   ]
  },
  {
   "cell_type": "markdown",
   "metadata": {},
   "source": [
    "## BOOTSTRAPPING"
   ]
  },
  {
   "cell_type": "code",
   "execution_count": 225,
   "metadata": {},
   "outputs": [
    {
     "name": "stdout",
     "output_type": "stream",
     "text": [
      "Upper and lower confidence interval of prediction is :0.2173160258387173 0.27508747369284586\n",
      "Mean coefficient value of B1 = 0.992454229213885\n",
      "Mean coefficient value of B2 = 5.00128695979683\n"
     ]
    },
    {
     "data": {
      "image/png": "[encoded data removed]",
      "text/plain": [
       "<Figure size 432x288 with 1 Axes>"
      ]
     },
     "metadata": {},
     "output_type": "display_data"
    }
   ],
   "source": [
    "#  DGP process\n",
    "train_percent = .6  # train set size\n",
    "sigma = 1\n",
    "rows = 1000     # number of rows\n",
    "train_len = int(.6*rows)  # train set size\n",
    "x1 = np.random.normal(10,2,(rows,1))\n",
    "x2 = np.random.normal(2,4,(rows,1))\n",
    "e = np.random.normal(0,0.5,(rows,1))\n",
    "y = x1 + (5*x2) + e # equation of the dependent variable\n",
    "df=[]\n",
    "df = np.hstack((y,x1,x2))\n",
    "df = pd.DataFrame(df)\n",
    "df.columns = [\"y\",\"x1\",\"x2\"]\n",
    "\n",
    "# End of DGP\n",
    "\n",
    "# Bootstrapping\n",
    "\n",
    "iter = 10000 # number of bootstrapping iterations\n",
    "n = np.arange(rows)\n",
    "container = np.zeros((iter,3))\n",
    "for i in range((iter)):\n",
    "    random.shuffle(n) # shuffling the rows \n",
    "    train_seq= n[:train_len]\n",
    "    test_seq = n[train_len:]\n",
    "    train =df.iloc[train_seq,:]  # creating test and train with replacement\n",
    "    test =  df.iloc[test_seq,:]\n",
    "    ols = smf.ols('y~x1+x2',data=train).fit()\n",
    "    #container[i] = ols.rsquared  # if looking to store rsquared values\n",
    "    pred = ols.predict(test)\n",
    "    ss = (pred - test[\"y\"])**2\n",
    "    sse = ss.mean()\n",
    "    container[i,0] = sse\n",
    "    container[i,1] = ols.params[1]\n",
    "    container[i,2] = ols.params[2]\n",
    "    \n",
    "#print(container)\n",
    "\n",
    "# conf interval \n",
    "# non parametric - no assumptions about underlying distribution\n",
    "alpha = 5\n",
    "order_container = np.sort(container[:,0])\n",
    "UCL = np.percentile(order_container,100-(alpha/2))\n",
    "LCL = np.percentile(order_container,(alpha/2))\n",
    "print(\"Upper and lower confidence interval of prediction is :\" + str(LCL),str(UCL)) # prints the confidence limits of standard error\n",
    "plt.hist(order_container)\n",
    "plt.xlabel(\"Histogram of Standard Errors\")\n",
    "print(\"Mean coefficient value of B1 = \"+str(container[:,1].mean()))\n",
    "print(\"Mean coefficient value of B2 = \"+str(container[:,2].mean()))\n"
   ]
  }
 ],
 "metadata": {
  "kernelspec": {
   "display_name": "Python 3",
   "language": "python",
   "name": "python3"
  },
  "language_info": {
   "codemirror_mode": {
    "name": "ipython",
    "version": 3
   },
   "file_extension": ".py",
   "mimetype": "text/x-python",
   "name": "python",
   "nbconvert_exporter": "python",
   "pygments_lexer": "ipython3",
   "version": "3.6.5"
  }
 },
 "nbformat": 4,
 "nbformat_minor": 2
}
