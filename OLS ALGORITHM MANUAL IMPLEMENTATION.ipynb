{
 "cells": [
  {
   "cell_type": "code",
   "execution_count": 1,
   "metadata": {},
   "outputs": [],
   "source": [
    "import numpy as np\n",
    "import matplotlib.pyplot as plt\n",
    "import scipy.stats as stats\n",
    "import pandas as pd"
   ]
  },
  {
   "cell_type": "code",
   "execution_count": 2,
   "metadata": {},
   "outputs": [],
   "source": [
    "# x = np.arange(2,11).reshape(3,3)\n",
    "x = np.random.normal(3,1,10).reshape(10,1)\n",
    "e = np.random.normal(0,.5,10).reshape(10,1)\n",
    "y = x + e\n",
    "X = np.hstack((np.ones((10,1)),x))"
   ]
  },
  {
   "cell_type": "code",
   "execution_count": 3,
   "metadata": {},
   "outputs": [
    {
     "name": "stdout",
     "output_type": "stream",
     "text": [
      "       Beta  Standard err      Tval      pval       LCL       UCL\n",
      "0 -0.012082      0.599629 -0.020149  0.386611 -1.394828  1.370664\n",
      "1  0.988672      0.192457  5.137118  0.000546  0.544867  1.432478\n",
      "\n",
      "Rsquared:[[0.76737408]]\n",
      "\n",
      "Rsquared Adjusted:[[0.73829584]]\n"
     ]
    }
   ],
   "source": [
    "df = np.shape(x)[1]+1 # degree of freedom = number of columns\n",
    "n = len(y)  # number of rows\n",
    "XTX = np.dot(X.T,X) # gramian matrix\n",
    "XTY = np.dot(X.T,y) # moment matrix\n",
    "Beta = np.dot(np.linalg.inv(XTX),XTY)  # beta values  *****\n",
    "Yhat = Beta[0] + (Beta[1]*x)  # y hat\n",
    "ehat = y - Yhat  # error\n",
    "RSS = ehat.T.dot(ehat)\n",
    "TSS = ((y - y.mean())**2).sum()\n",
    "Rsq = 1 - (RSS/TSS)  # Rsquared  *****\n",
    "Rsq_adj = 1-((1-Rsq)*((n-1)/(n-df)))\n",
    "# var covar  - - - standard error of each beta coefficient is equal to square root of the j-th diagonal element of this matrix\n",
    "# var(beta cap) = sigmasq* (XTX)^-1\n",
    "sigmasq = (ehat**2).sum()/(n-df) # variance of parameters\n",
    "var_beta = sigmasq * np.linalg.inv(XTX) # variance\n",
    "se_beta = np.sqrt(np.diag(var_beta)) # standard error of parameters *****\n",
    "tval = Beta/se_beta.reshape(2,1) # tvalue *****\n",
    "pval = stats.t.pdf(tval,len(y)-df)  # pvalue ******does not match ???\n",
    "tcrit = stats.t.ppf(1-0.025, n-df)\n",
    "LCL = Beta - tcrit*se_beta.reshape(2,1)\n",
    "UCL = Beta + tcrit*se_beta.reshape(2,1)\n",
    "\n",
    "output = pd.DataFrame(np.hstack((Beta,se_beta.reshape(2,1),tval.reshape(2,1),pval.reshape(2,1),LCL.reshape(2,1),UCL.reshape(2,1))))\n",
    "output.columns = [\"Beta\",\"Standard err\",\"Tval\",\"pval\",\"LCL\",\"UCL\"]\n",
    "print(output)\n",
    "print(\"\\nRsquared:\"+ str(Rsq))\n",
    "print(\"\\nRsquared Adjusted:\"+str(Rsq_adj))"
   ]
  },
  {
   "cell_type": "code",
   "execution_count": 9,
   "metadata": {},
   "outputs": [
    {
     "name": "stderr",
     "output_type": "stream",
     "text": [
      "C:\\Users\\165210\\AppData\\Local\\Continuum\\anaconda3\\lib\\site-packages\\scipy\\stats\\stats.py:1394: UserWarning: kurtosistest only valid for n>=20 ... continuing anyway, n=10\n",
      "  \"anyway, n=%i\" % int(n))\n"
     ]
    },
    {
     "data": {
      "text/html": [
       "<table class=\"simpletable\">\n",
       "<caption>OLS Regression Results</caption>\n",
       "<tr>\n",
       "  <th>Dep. Variable:</th>            <td>y</td>        <th>  R-squared:         </th> <td>   0.767</td>\n",
       "</tr>\n",
       "<tr>\n",
       "  <th>Model:</th>                   <td>OLS</td>       <th>  Adj. R-squared:    </th> <td>   0.738</td>\n",
       "</tr>\n",
       "<tr>\n",
       "  <th>Method:</th>             <td>Least Squares</td>  <th>  F-statistic:       </th> <td>   26.39</td>\n",
       "</tr>\n",
       "<tr>\n",
       "  <th>Date:</th>             <td>Wed, 08 Aug 2018</td> <th>  Prob (F-statistic):</th> <td>0.000888</td>\n",
       "</tr>\n",
       "<tr>\n",
       "  <th>Time:</th>                 <td>23:10:07</td>     <th>  Log-Likelihood:    </th> <td> -6.6406</td>\n",
       "</tr>\n",
       "<tr>\n",
       "  <th>No. Observations:</th>      <td>    10</td>      <th>  AIC:               </th> <td>   17.28</td>\n",
       "</tr>\n",
       "<tr>\n",
       "  <th>Df Residuals:</th>          <td>     8</td>      <th>  BIC:               </th> <td>   17.89</td>\n",
       "</tr>\n",
       "<tr>\n",
       "  <th>Df Model:</th>              <td>     1</td>      <th>                     </th>     <td> </td>   \n",
       "</tr>\n",
       "<tr>\n",
       "  <th>Covariance Type:</th>      <td>nonrobust</td>    <th>                     </th>     <td> </td>   \n",
       "</tr>\n",
       "</table>\n",
       "<table class=\"simpletable\">\n",
       "<tr>\n",
       "    <td></td>       <th>coef</th>     <th>std err</th>      <th>t</th>      <th>P>|t|</th>  <th>[0.025</th>    <th>0.975]</th>  \n",
       "</tr>\n",
       "<tr>\n",
       "  <th>const</th> <td>   -0.0121</td> <td>    0.600</td> <td>   -0.020</td> <td> 0.984</td> <td>   -1.395</td> <td>    1.371</td>\n",
       "</tr>\n",
       "<tr>\n",
       "  <th>x1</th>    <td>    0.9887</td> <td>    0.192</td> <td>    5.137</td> <td> 0.001</td> <td>    0.545</td> <td>    1.432</td>\n",
       "</tr>\n",
       "</table>\n",
       "<table class=\"simpletable\">\n",
       "<tr>\n",
       "  <th>Omnibus:</th>       <td> 0.131</td> <th>  Durbin-Watson:     </th> <td>   2.397</td>\n",
       "</tr>\n",
       "<tr>\n",
       "  <th>Prob(Omnibus):</th> <td> 0.937</td> <th>  Jarque-Bera (JB):  </th> <td>   0.299</td>\n",
       "</tr>\n",
       "<tr>\n",
       "  <th>Skew:</th>          <td> 0.192</td> <th>  Prob(JB):          </th> <td>   0.861</td>\n",
       "</tr>\n",
       "<tr>\n",
       "  <th>Kurtosis:</th>      <td> 2.245</td> <th>  Cond. No.          </th> <td>    12.3</td>\n",
       "</tr>\n",
       "</table><br/><br/>Warnings:<br/>[1] Standard Errors assume that the covariance matrix of the errors is correctly specified."
      ],
      "text/plain": [
       "<class 'statsmodels.iolib.summary.Summary'>\n",
       "\"\"\"\n",
       "                            OLS Regression Results                            \n",
       "==============================================================================\n",
       "Dep. Variable:                      y   R-squared:                       0.767\n",
       "Model:                            OLS   Adj. R-squared:                  0.738\n",
       "Method:                 Least Squares   F-statistic:                     26.39\n",
       "Date:                Wed, 08 Aug 2018   Prob (F-statistic):           0.000888\n",
       "Time:                        23:10:07   Log-Likelihood:                -6.6406\n",
       "No. Observations:                  10   AIC:                             17.28\n",
       "Df Residuals:                       8   BIC:                             17.89\n",
       "Df Model:                           1                                         \n",
       "Covariance Type:            nonrobust                                         \n",
       "==============================================================================\n",
       "                 coef    std err          t      P>|t|      [0.025      0.975]\n",
       "------------------------------------------------------------------------------\n",
       "const         -0.0121      0.600     -0.020      0.984      -1.395       1.371\n",
       "x1             0.9887      0.192      5.137      0.001       0.545       1.432\n",
       "==============================================================================\n",
       "Omnibus:                        0.131   Durbin-Watson:                   2.397\n",
       "Prob(Omnibus):                  0.937   Jarque-Bera (JB):                0.299\n",
       "Skew:                           0.192   Prob(JB):                        0.861\n",
       "Kurtosis:                       2.245   Cond. No.                         12.3\n",
       "==============================================================================\n",
       "\n",
       "Warnings:\n",
       "[1] Standard Errors assume that the covariance matrix of the errors is correctly specified.\n",
       "\"\"\""
      ]
     },
     "execution_count": 9,
     "metadata": {},
     "output_type": "execute_result"
    }
   ],
   "source": [
    "import statsmodels.api as sm\n",
    "model = sm.OLS(y,sm.add_constant(x)).fit()\n",
    "# model = sm.api.OLS(y,sm.api.add_constant(x)).fit()\n",
    "model.summary()\n"
   ]
  }
 ],
 "metadata": {
  "kernelspec": {
   "display_name": "Python 3",
   "language": "python",
   "name": "python3"
  },
  "language_info": {
   "codemirror_mode": {
    "name": "ipython",
    "version": 3
   },
   "file_extension": ".py",
   "mimetype": "text/x-python",
   "name": "python",
   "nbconvert_exporter": "python",
   "pygments_lexer": "ipython3",
   "version": "3.6.5"
  }
 },
 "nbformat": 4,
 "nbformat_minor": 2
}
